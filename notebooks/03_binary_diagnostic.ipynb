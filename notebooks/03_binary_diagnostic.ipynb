{
 "cells": [
  {
   "cell_type": "markdown",
   "metadata": {},
   "source": [
    "# Advent of code 2021: Day 3. Binary Diagnostic"
   ]
  },
  {
   "cell_type": "markdown",
   "metadata": {},
   "source": [
    "- Daniel Cerdán Vélez.\n",
    "- Friday, December 3, 2021"
   ]
  },
  {
   "cell_type": "code",
   "execution_count": 1,
   "metadata": {},
   "outputs": [],
   "source": [
    "import pandas as pd"
   ]
  },
  {
   "cell_type": "markdown",
   "metadata": {},
   "source": [
    "### --- Day 3: Binary Diagnostic ---\n",
    "\n",
    "The submarine has been making some odd creaking noises, so you ask it to produce a diagnostic report just in case.\n",
    "\n",
    "The diagnostic report (your puzzle input) consists of a list of binary numbers which, when decoded properly, can tell you many useful things about the conditions of the submarine. The first parameter to check is the **power consumption**.\n",
    "\n",
    "You need to use the binary numbers in the diagnostic report to generate two new binary numbers (called the **gamma rate** and the **epsilon rate**). The power consumption can then be found by multiplying the gamma rate by the epsilon rate.\n",
    "\n",
    "Each bit in the gamma rate can be determined by finding the **most common bit in the corresponding position** of all numbers in the diagnostic report. For example, given the following diagnostic report:\n",
    "```\n",
    "00100\n",
    "11110\n",
    "10110\n",
    "10111\n",
    "10101\n",
    "01111\n",
    "00111\n",
    "11100\n",
    "10000\n",
    "11001\n",
    "00010\n",
    "01010\n",
    "```\n",
    "Considering only the first bit of each number, there are five `0` bits and seven `1` bits. Since the most common bit is `1`, the first bit of the gamma rate is `1`.\n",
    "\n",
    "The most common second bit of the numbers in the diagnostic report is `0`, so the second bit of the gamma rate is `0`.\n",
    "\n",
    "The most common value of the third, fourth, and fifth bits are `1`, `1`, and `0`, respectively, and so the final three bits of the gamma rate are `110`.\n",
    "\n",
    "So, the gamma rate is the binary number `10110`, or `22` in decimal.\n",
    "\n",
    "The epsilon rate is calculated in a similar way; rather than use the most common bit, the least common bit from each position is used. So, the epsilon rate is `01001`, or `9` in decimal. Multiplying the gamma rate (`22`) by the epsilon rate (`9`) produces the power consumption, `198`.\n",
    "\n",
    "Use the binary numbers in your diagnostic report to calculate the gamma rate and epsilon rate, then multiply them together. **What is the power consumption of the submarine?** (Be sure to represent your answer in decimal, not binary.)\n"
   ]
  },
  {
   "cell_type": "code",
   "execution_count": 2,
   "metadata": {},
   "outputs": [
    {
     "name": "stdout",
     "output_type": "stream",
     "text": [
      "Gamma rate bin:  101111111101\n",
      "Gamma rate:  3069 \n",
      "\n",
      "Epsilon rate bin:  010000000010\n",
      "Epsilon rate:  1026 \n",
      "\n",
      "Result = gamma_rate * epsilon_rate = 3069 * 1026 =\u001b[1m 3148794 \u001b[0m\n"
     ]
    }
   ],
   "source": [
    "df = pd.read_csv(\"../data/input_03.txt\", dtype = str, header = None)\n",
    "df = pd.DataFrame([list(x) for x in df[0]])\n",
    "\n",
    "# Gamma rate\n",
    "gamma_rate_bin = df.mode().agg(''.join, axis=1)[0]\n",
    "gamma_rate = int(gamma_rate_bin, 2)\n",
    "\n",
    "\n",
    "# Epsilon rate\n",
    "swap = {'0':'1', '1':'0'}\n",
    "epsilon_rate_bin = \"\".join([str(swap.get(c,\"0\")) for c in gamma_rate_bin])\n",
    "epsilon_rate = int(epsilon_rate_bin, 2)\n",
    "\n",
    "\n",
    "# Print results\n",
    "print(\"Gamma rate bin: \", gamma_rate_bin)\n",
    "print(\"Gamma rate: \", gamma_rate, \"\\n\")\n",
    "\n",
    "print(\"Epsilon rate bin: \", epsilon_rate_bin)\n",
    "print(\"Epsilon rate: \", epsilon_rate, \"\\n\")\n",
    "\n",
    "print(\"Result = gamma_rate * epsilon_rate =\", gamma_rate, \"*\",epsilon_rate, \\\n",
    "      \"=\\033[1m\", gamma_rate*epsilon_rate,\"\\033[0m\")"
   ]
  },
  {
   "cell_type": "markdown",
   "metadata": {},
   "source": [
    "### --- Part Two ---\n",
    "\n",
    "Next, you should verify the **life support rating**, which can be determined by multiplying the **oxygen generator rating** by the **CO2 scrubber rating**.\n",
    "\n",
    "Both the oxygen generator rating and the CO2 scrubber rating are values that can be found in your diagnostic report - finding them is the tricky part. Both values are located using a similar process that involves filtering out values until only one remains. Before searching for either rating value, start with the full list of binary numbers from your diagnostic report and **consider just the first bit** of those numbers. Then:\n",
    "\n",
    "- Keep only numbers selected by the **bit criteria** for the type of rating value for which you are searching. Discard numbers which do not match the bit criteria.\n",
    "- If you only have one number left, stop; this is the rating value for which you are searching.\n",
    "- Otherwise, repeat the process, considering the next bit to the right.\n",
    "\n",
    "The **bit criteria** depends on which type of rating value you want to find:\n",
    "\n",
    "- To find **oxygen generator rating**, determine the **most common** value (`0` or `1`) in the current bit position, and keep only numbers with that bit in that position. If `0` and `1` are equally common, keep values with a `1` in the position being considered.\n",
    "- To find **CO2 scrubber rating**, determine the **least common** value (`0` or `1`) in the current bit position, and keep only numbers with that bit in that position. If `0` and `1` are equally common, keep values with a `0` in the position being considered.\n",
    "\n",
    "For example, to determine the **oxygen generator rating** value using the same example diagnostic report from above:\n",
    "\n",
    "- Start with all 12 numbers and consider only the first bit of each number. There are more `1` bits (7) than `0` bits (5), so keep only the 7 numbers with a `1` in the first position: `11110`, `10110`, `10111`, `10101`, `11100`, `10000`, and `11001`.\n",
    "- Then, consider the second bit of the 7 remaining numbers: there are more `0` bits (4) than `1` bits (3), so keep only the 4 numbers with a `0` in the second position: `10110`, `10111`, `10101`, and `10000`.\n",
    "- In the third position, three of the four numbers have a `1`, so keep those three: `10110`, `10111`, and `10101`.\n",
    "- In the fourth position, two of the three numbers have a `1`, so keep those two: `10110` and `10111`.\n",
    "- In the fifth position, there are an equal number of `0` bits and `1` bits (one each). So, to find the **oxygen generator rating**, keep the number with a `1` in that position: `10111`.\n",
    "- As there is only one number left, stop; the **oxygen generator rating** is `10111`, or `23` in decimal.\n",
    "\n",
    "Then, to determine the **CO2 scrubber rating** value from the same example above:\n",
    "\n",
    "- Start again with all 12 numbers and consider only the first bit of each number. There are fewer `0` bits (5) than `1` bits (7), so keep only the 5 numbers with a `0` in the first position: `00100`, `01111`, `00111`, `00010`, and `01010`.\n",
    "- Then, consider the second bit of the 5 remaining numbers: there are fewer `1` bits (2) than `0` bits (3), so keep only the 2 numbers with a `1` in the second position: `01111` and `01010`.\n",
    "- In the third position, there are an equal number of `0` bits and `1` bits (one each). So, to find the **CO2 scrubber rating**, keep the number with a `0` in that position: `01010`.\n",
    "- As there is only one number left, stop; the **CO2 scrubber rating** is `01010`, or `10` in decimal.\n",
    "\n",
    "Finally, to find the life support rating, multiply the oxygen generator rating (`23`) by the CO2 scrubber rating (`10`) to get `230`.\n",
    "\n",
    "Use the binary numbers in your diagnostic report to calculate the oxygen generator rating and CO2 scrubber rating, then multiply them together. **What is the life support rating of the submarine?** (Be sure to represent your answer in decimal, not binary.)\n"
   ]
  },
  {
   "cell_type": "code",
   "execution_count": 3,
   "metadata": {},
   "outputs": [
    {
     "name": "stdout",
     "output_type": "stream",
     "text": [
      "Oxygen rate bin:  100100101101\n",
      "Oxygen rate:  2349 \n",
      "\n",
      "CO2 rate bin:  010010100110\n",
      "CO2 rate:  1190 \n",
      "\n",
      "Result = O2_rate * CO2_rate = 2349 * 1190 =\u001b[1m 2795310 \u001b[0m\n"
     ]
    }
   ],
   "source": [
    "# Oxigen\n",
    "dfO2 = pd.read_csv(\"../data/input_03.txt\", dtype = str, header = None)\n",
    "dfO2 = pd.DataFrame([list(x) for x in dfO2[0]])\n",
    "\n",
    "for i in range(12):\n",
    "    if dfO2[i].value_counts().max() == dfO2[i].value_counts().min():\n",
    "        moda = \"1\"\n",
    "    else:\n",
    "        moda = dfO2[i].value_counts().idxmax()[0]\n",
    "    dfO2 = dfO2[dfO2[i]==moda]\n",
    "    if dfO2.shape[0] == 1:\n",
    "        break\n",
    "    \n",
    "O2_bin = \"\".join(dfO2.squeeze())\n",
    "O2 = int(O2_bin, 2)\n",
    "\n",
    "\n",
    "# CO2\n",
    "dfCO2 = pd.read_csv(\"../data/input_03.txt\", dtype = str, header = None)\n",
    "dfCO2 = pd.DataFrame([list(x) for x in dfCO2[0]])\n",
    "\n",
    "for i in range(12):\n",
    "    if dfCO2[i].value_counts().max() == dfCO2[i].value_counts().min():\n",
    "        moda = \"0\"\n",
    "    else:\n",
    "        moda = dfCO2[i].value_counts().idxmin()[0]\n",
    "    dfCO2 = dfCO2[dfCO2[i]==moda]\n",
    "    if dfCO2.shape[0] == 1:\n",
    "        break\n",
    "\n",
    "CO2_bin = \"\".join(dfCO2.squeeze())\n",
    "CO2 = int(CO2_bin, 2)\n",
    "\n",
    "\n",
    "# Print results\n",
    "print(\"Oxygen rate bin: \", O2_bin)\n",
    "print(\"Oxygen rate: \", O2, \"\\n\")\n",
    "\n",
    "print(\"CO2 rate bin: \", CO2_bin)\n",
    "print(\"CO2 rate: \", CO2, \"\\n\")\n",
    "\n",
    "print(\"Result = O2_rate * CO2_rate =\", O2, \"*\",CO2, \\\n",
    "      \"=\\033[1m\", O2*CO2,\"\\033[0m\")"
   ]
  }
 ],
 "metadata": {
  "kernelspec": {
   "display_name": "Python 3",
   "language": "python",
   "name": "python3"
  },
  "language_info": {
   "codemirror_mode": {
    "name": "ipython",
    "version": 3
   },
   "file_extension": ".py",
   "mimetype": "text/x-python",
   "name": "python",
   "nbconvert_exporter": "python",
   "pygments_lexer": "ipython3",
   "version": "3.8.3"
  }
 },
 "nbformat": 4,
 "nbformat_minor": 5
}
