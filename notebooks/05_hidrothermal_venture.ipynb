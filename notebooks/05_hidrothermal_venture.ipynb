{
 "cells": [
  {
   "cell_type": "markdown",
   "metadata": {},
   "source": [
    "# Advent of code 2021: Day 5. Hydrothermal Venture"
   ]
  },
  {
   "cell_type": "markdown",
   "metadata": {},
   "source": [
    "- Daniel Cerdán Vélez.\n",
    "- Sunday, December 5, 2021"
   ]
  },
  {
   "cell_type": "code",
   "execution_count": 1,
   "metadata": {},
   "outputs": [],
   "source": [
    "import math\n",
    "import numpy as np\n",
    "import pandas as pd\n",
    "import re"
   ]
  },
  {
   "cell_type": "markdown",
   "metadata": {},
   "source": [
    "### --- Day 5: Hydrothermal Venture ---\n",
    "\n",
    "You come across a field of [hydrothermal vents](https://en.wikipedia.org/wiki/Hydrothermal_vent) on the ocean floor! These vents constantly produce large, opaque clouds, so it would be best to avoid them if possible.\n",
    "\n",
    "They tend to form in **lines**; the submarine helpfully produces a list of nearby lines of vents (your puzzle input) for you to review. For example:\n",
    "```\n",
    "0,9 -> 5,9\n",
    "8,0 -> 0,8\n",
    "9,4 -> 3,4\n",
    "2,2 -> 2,1\n",
    "7,0 -> 7,4\n",
    "6,4 -> 2,0\n",
    "0,9 -> 2,9\n",
    "3,4 -> 1,4\n",
    "0,0 -> 8,8\n",
    "5,5 -> 8,2\n",
    "```\n",
    "Each line of vents is given as a line segment in the format `x1,y1 -> x2,y2` where `x1`,`y1` are the coordinates of one end the line segment and `x2`,`y2` are the coordinates of the other end. These line segments include the points at both ends. In other words:\n",
    "\n",
    "- An entry like `1,1 -> 1,3` covers points `1,1`, `1,2`, and `1,3`.\n",
    "- An entry like `9,7 -> 7,7` covers points `9,7`, `8,7`, and `7,7`.\n",
    "\n",
    "For now, **only consider horizontal and vertical lines**: lines where either `x1 = x2` or `y1 = y2`.\n",
    "\n",
    "So, the horizontal and vertical lines from the above list would produce the following diagram:\n",
    "```\n",
    ".......1..\n",
    "..1....1..\n",
    "..1....1..\n",
    ".......1..\n",
    ".112111211\n",
    "..........\n",
    "..........\n",
    "..........\n",
    "..........\n",
    "222111....\n",
    "```\n",
    "In this diagram, the top left corner is `0,0` and the bottom right corner is `9,9`. Each position is shown as **the number of lines which cover that point** or `.` if no line covers that point. The top-left pair of `1`s, for example, comes from `2,2 -> 2,1`; the very bottom row is formed by the overlapping lines `0,9 -> 5,9` and `0,9 -> 2,9`.\n",
    "\n",
    "To avoid the most dangerous areas, you need to determine **the number of points where at least two lines overlap**. In the above example, this is anywhere in the diagram with a `2` or larger - a total of **`5`** points.\n",
    "\n",
    "Consider only horizontal and vertical lines. **At how many points do at least two lines overlap?**"
   ]
  },
  {
   "cell_type": "code",
   "execution_count": 2,
   "metadata": {},
   "outputs": [],
   "source": [
    "# I'm going to create the diagram automatically by going through the file once. Initially I have selected\n",
    "# enough random dimensions (1000 x 1000), but it would not work if the numbers are greater.\n",
    "pattern = \"[0-9]*,[0-9]* -> [0-9]*,[0-9]*\"\n",
    "\n",
    "with open(\"../data/input_05.txt\", \"r\") as f:\n",
    "    lines = f.readlines()\n",
    "    lines = [line.rstrip() for line in lines]\n",
    "\n",
    "aux = np.matrix([re.split(\",| -> \", item) for item in lines]).astype(int)\n",
    "\n",
    "x_max = max(np.max(aux[:,0]),np.max(aux[:,2]))\n",
    "y_max = max(np.max(aux[:,1]),np.max(aux[:,3]))"
   ]
  },
  {
   "cell_type": "code",
   "execution_count": 3,
   "metadata": {},
   "outputs": [
    {
     "name": "stdout",
     "output_type": "stream",
     "text": [
      "Result =\u001b[1m 7468 \u001b[0m\n"
     ]
    }
   ],
   "source": [
    "diagram = np.full((y_max+1,x_max+1),0)\n",
    "\n",
    "with open(\"../data/input_05.txt\", \"r\") as f:\n",
    "    for line in f:\n",
    "        \n",
    "        start, stop = map(lambda x: x.split(','), line.strip().split(' -> '))\n",
    "        start = [int(item) for item in start]\n",
    "        stop = [int(item) for item in stop]\n",
    "        \n",
    "        if (int(start[0]) == int(stop[0])) or (int(start[1]) == int(stop[1])):\n",
    "            (x1, y1), (x2, y2) = sorted([start, stop])\n",
    "            diagram[y1:y2+1, x1:x2+1] += 1\n",
    "\n",
    "result = np.sum(diagram > 1)\n",
    "\n",
    "print(\"Result =\\033[1m\", result,\"\\033[0m\")"
   ]
  },
  {
   "cell_type": "markdown",
   "metadata": {},
   "source": [
    "### --- Part Two ---\n",
    "\n",
    "Unfortunately, considering only horizontal and vertical lines doesn't give you the full picture; you need to also consider **diagonal lines**.\n",
    "\n",
    "Because of the limits of the hydrothermal vent mapping system, the lines in your list will only ever be horizontal, vertical, or a diagonal line at exactly 45 degrees. In other words:\n",
    "\n",
    "- An entry like `1,1 -> 3,3` covers points `1,1`, `2,2`, and `3,3`.\n",
    "- An entry like `9,7 -> 7,9` covers points `9,7`, `8,8`, and `7,9`.\n",
    "\n",
    "Considering all lines from the above example would now produce the following diagram:\n",
    "```\n",
    "1.1....11.\n",
    ".111...2..\n",
    "..2.1.111.\n",
    "...1.2.2..\n",
    ".112313211\n",
    "...1.2....\n",
    "..1...1...\n",
    ".1.....1..\n",
    "1.......1.\n",
    "222111....\n",
    "```\n",
    "You still need to determine **the number of points where at least two lines overlap**. In the above example, this is still anywhere in the diagram with a `2` or larger - now a total of **`12`** points.\n",
    "\n",
    "Consider all of the lines. **At how many points do at least two lines overlap?**\n"
   ]
  },
  {
   "cell_type": "code",
   "execution_count": 4,
   "metadata": {
    "scrolled": true
   },
   "outputs": [
    {
     "name": "stdout",
     "output_type": "stream",
     "text": [
      "Result =\u001b[1m 22364 \u001b[0m\n"
     ]
    }
   ],
   "source": [
    "diagram = np.full((y_max+1,x_max+1),0)\n",
    "\n",
    "with open(\"../data/input_05.txt\", \"r\") as f:\n",
    "    for line in f:\n",
    "        \n",
    "        start, stop = map(lambda x: x.split(','), line.strip().split(' -> '))\n",
    "        start = [int(item) for item in start]\n",
    "        stop = [int(item) for item in stop]\n",
    "        \n",
    "        if (stop[0]-start[0]) == 0:\n",
    "            slope = 0\n",
    "        else:\n",
    "            slope = (stop[1]-start[1])/(stop[0]-start[0])\n",
    "            \n",
    "        angle = math.degrees(math.atan(slope))\n",
    "        \n",
    "        if ((int(start[0]) == int(stop[0])) or (int(start[1]) == int(stop[1])) or abs(angle) == 45):\n",
    "            (x1, y1), (x2, y2) = sorted([start, stop])\n",
    "            if angle == 0:\n",
    "                diagram[int(y1):int(y2)+1, int(x1):int(x2)+1] += 1\n",
    "            elif angle == 45:\n",
    "                for i, j in zip(range(y1, y2+1), range(x1, x2+1)):\n",
    "                    diagram[i,j] += 1\n",
    "            else: # angle == -45\n",
    "                for i, j in zip(range(y1, y2-1, -1), range(x1, x2+1)):\n",
    "                    diagram[i,j] += 1\n",
    "            \n",
    "\n",
    "result = np.sum(diagram > 1)\n",
    "\n",
    "print(\"Result =\\033[1m\", result,\"\\033[0m\")"
   ]
  }
 ],
 "metadata": {
  "kernelspec": {
   "display_name": "Python 3",
   "language": "python",
   "name": "python3"
  },
  "language_info": {
   "codemirror_mode": {
    "name": "ipython",
    "version": 3
   },
   "file_extension": ".py",
   "mimetype": "text/x-python",
   "name": "python",
   "nbconvert_exporter": "python",
   "pygments_lexer": "ipython3",
   "version": "3.8.3"
  }
 },
 "nbformat": 4,
 "nbformat_minor": 5
}
