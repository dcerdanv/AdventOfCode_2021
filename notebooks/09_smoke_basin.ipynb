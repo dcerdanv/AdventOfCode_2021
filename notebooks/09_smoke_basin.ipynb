{
 "cells": [
  {
   "cell_type": "markdown",
   "metadata": {},
   "source": [
    "# Advent of code 2021: Day 9. Smoke Basin"
   ]
  },
  {
   "cell_type": "markdown",
   "metadata": {},
   "source": [
    "- Daniel Cerdán Vélez.\n",
    "- Thrusday, December 9, 2021"
   ]
  },
  {
   "cell_type": "code",
   "execution_count": 1,
   "metadata": {},
   "outputs": [],
   "source": [
    "import numpy as np"
   ]
  },
  {
   "cell_type": "markdown",
   "metadata": {},
   "source": [
    "### --- Day 9: Smoke Basin ---\n",
    "These caves seem to be [lava tubes](https://en.wikipedia.org/wiki/Lava_tube). Parts are even still volcanically active; small hydrothermal vents release smoke into the caves that slowly settles like rain.\n",
    "\n",
    "If you can model how the smoke flows through the caves, you might be able to avoid it and be that much safer. The submarine generates a heightmap of the floor of the nearby caves for you (your puzzle input).\n",
    "\n",
    "Smoke flows to the lowest point of the area it's in. For example, consider the following heightmap:\n",
    "<pre>\n",
    "2<b>1</b>9994321<b>0</b>\n",
    "3987894921\n",
    "98<b>5</b>6789892\n",
    "8767896789\n",
    "989996<b>5</b>678\n",
    "</pre>\n",
    "Each number corresponds to the height of a particular location, where `9` is the highest and `0` is the lowest a location can be.\n",
    "\n",
    "Your first goal is to find the **low points** - the locations that are lower than any of its adjacent locations. Most locations have four adjacent locations (up, down, left, and right); locations on the edge or corner of the map have three or two adjacent locations, respectively. (Diagonal locations do not count as adjacent.)\n",
    "\n",
    "In the above example, there are four low points, all highlighted: two are in the first row (a `1` and a `0`), one is in the third row (a `5`), and one is in the bottom row (also a 5). All other locations on the heightmap have some lower adjacent location, and so are not low points.\n",
    "\n",
    "The **risk level** of a low point is **1 plus its height**. In the above example, the risk levels of the low points are 2, 1, 6, and 6. The sum of the risk levels of all low points in the heightmap is therefore **`15`**.\n",
    "\n",
    "Find all of the low points on your heightmap. **What is the sum of the risk levels of all low points on your heightmap?**"
   ]
  },
  {
   "cell_type": "code",
   "execution_count": 2,
   "metadata": {},
   "outputs": [
    {
     "name": "stdout",
     "output_type": "stream",
     "text": [
      "Result =\u001b[1m 562\n"
     ]
    }
   ],
   "source": [
    "data = []\n",
    "with open(\"../data/input_09.txt\", \"r\") as f:\n",
    "    for row in f:\n",
    "        data.append([int(x) for x in row.strip()])\n",
    "heightmap = np.array(data).astype(float)\n",
    "\n",
    "# Add border\n",
    "heightmap = np.pad(heightmap, pad_width=1, mode='constant', constant_values=np.Inf)\n",
    "\n",
    "result = 0\n",
    "mins = []\n",
    "for i in range(1, heightmap.shape[0] -1):\n",
    "    for j in range(1, heightmap.shape[1] -1):\n",
    "        if (heightmap[i,j] < heightmap[i-1,j]) and (heightmap[i,j] < heightmap[i+1,j]) and \\\n",
    "        (heightmap[i,j] < heightmap[i,j-1]) and (heightmap[i,j] < heightmap[i,j+1]):\n",
    "            mins.append([i-1,j-1])\n",
    "            result += int(heightmap[i,j] + 1)\n",
    "\n",
    "print(\"Result =\\033[1m\", result)"
   ]
  },
  {
   "cell_type": "markdown",
   "metadata": {},
   "source": [
    "### --- Part Two ---\n",
    "Next, you need to find the largest basins so you know what areas are most important to avoid.\n",
    "\n",
    "A **basin** is all locations that eventually flow downward to a single low point. Therefore, every low point has a basin, although some basins are very small. Locations of height 9 do not count as being in any basin, and all other locations will always be part of exactly one basin.\n",
    "\n",
    "The **size** of a basin is the number of locations within the basin, including the low point. The example above has four basins.\n",
    "\n",
    "The top-left basin, size `3`:\n",
    "<pre>\n",
    "<b>21</b>99943210\n",
    "<b>3</b>987894921\n",
    "9856789892\n",
    "8767896789\n",
    "9899965678\n",
    "</pre>\n",
    "The top-right basin, size `9`:\n",
    "<pre>\n",
    "21999<b>43210</b>\n",
    "398789<b>4</b>9<b>21</b>\n",
    "985678989<b>2</b>\n",
    "8767896789\n",
    "9899965678\n",
    "</pre>\n",
    "The middle basin, size `14`:\n",
    "<pre>\n",
    "2199943210\n",
    "39<b>878</b>94921\n",
    "9<b>85678</b>9892\n",
    "<b>87678</b>96789\n",
    "9<b>8</b>99965678\n",
    "</pre>\n",
    "The bottom-right basin, size `9`:\n",
    "<pre>\n",
    "2199943210\n",
    "3987894921\n",
    "9856789<b>8</b>92\n",
    "876789<b>678</b>9\n",
    "98999<b>65678</b>\n",
    "</pre>\n",
    "Find the three largest basins and multiply their sizes together. In the above example, this is `9 * 14 * 9 = `**`1134`**.\n",
    "\n",
    "**What do you get if you multiply together the sizes of the three largest basins?**\n"
   ]
  },
  {
   "cell_type": "code",
   "execution_count": 3,
   "metadata": {},
   "outputs": [
    {
     "name": "stdout",
     "output_type": "stream",
     "text": [
      "Result =\u001b[1m 1076922\n"
     ]
    }
   ],
   "source": [
    "def check_adjacent(heightmap, i, j):\n",
    "    size = 0\n",
    "    if checked[i,j] == False:\n",
    "        checked[i,j] = True\n",
    "        size += 1\n",
    "        if heightmap[i-1,j] != 9 and heightmap[i-1,j] != np.Inf:\n",
    "            size += check_adjacent(heightmap, i-1, j)\n",
    "        if heightmap[i+1,j] != 9 and heightmap[i+1,j] != np.Inf:\n",
    "            size += check_adjacent(heightmap, i+1, j)\n",
    "        if heightmap[i,j-1] != 9 and heightmap[i,j-1] != np.Inf:\n",
    "            size += check_adjacent(heightmap, i, j-1)\n",
    "        if heightmap[i,j+1] != 9 and heightmap[i,j+1] != np.Inf:\n",
    "            size += check_adjacent(heightmap, i, j+1)\n",
    "    return size\n",
    "\n",
    "data = []\n",
    "mins = []\n",
    "\n",
    "### Basically this is the first part again. But now the border are '9' and I'm gonna save the low points\n",
    "with open(\"../data/input_09.txt\", \"r\") as f:\n",
    "    for row in f:\n",
    "        data.append([int(x) for x in row.strip()])\n",
    "heightmap = np.array(data).astype(float)\n",
    "\n",
    "# Add border\n",
    "heightmap = np.pad(heightmap, pad_width=1, mode='constant', constant_values=np.Inf)\n",
    "\n",
    "for i in range(1, heightmap.shape[0] -1):\n",
    "    for j in range(1, heightmap.shape[1] -1):\n",
    "        if (heightmap[i,j] < heightmap[i-1,j]) and (heightmap[i,j] < heightmap[i+1,j]) and \\\n",
    "        (heightmap[i,j] < heightmap[i,j-1]) and (heightmap[i,j] < heightmap[i,j+1]):\n",
    "            mins.append([i,j])\n",
    "\n",
    "# Real second part\n",
    "checked = (heightmap==9)\n",
    "mins_size = []\n",
    "\n",
    "for i in range(len(mins)):\n",
    "    size = check_adjacent(heightmap, mins[i][0], mins[i][1])\n",
    "    mins_size.append(size)\n",
    "\n",
    "result = np.prod(sorted(mins_size, reverse=True)[0:3])\n",
    "\n",
    "print(\"Result =\\033[1m\", result)"
   ]
  }
 ],
 "metadata": {
  "kernelspec": {
   "display_name": "Python 3",
   "language": "python",
   "name": "python3"
  },
  "language_info": {
   "codemirror_mode": {
    "name": "ipython",
    "version": 3
   },
   "file_extension": ".py",
   "mimetype": "text/x-python",
   "name": "python",
   "nbconvert_exporter": "python",
   "pygments_lexer": "ipython3",
   "version": "3.8.3"
  }
 },
 "nbformat": 4,
 "nbformat_minor": 5
}
