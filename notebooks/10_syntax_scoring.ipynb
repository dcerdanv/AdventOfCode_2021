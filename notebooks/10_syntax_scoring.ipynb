{
 "cells": [
  {
   "cell_type": "markdown",
   "metadata": {},
   "source": [
    "# Advent of code 2021: Day 10. Syntax Scoring"
   ]
  },
  {
   "cell_type": "markdown",
   "metadata": {},
   "source": [
    "- Daniel Cerdán Vélez.\n",
    "- Friday, December 10, 2021"
   ]
  },
  {
   "cell_type": "code",
   "execution_count": 1,
   "metadata": {},
   "outputs": [],
   "source": [
    "import numpy as np\n",
    "import queue"
   ]
  },
  {
   "cell_type": "markdown",
   "metadata": {},
   "source": [
    "### --- Day 10: Syntax Scoring ---\n",
    "\n",
    "You ask the submarine to determine the best route out of the deep-sea cave, but it only replies:\n",
    "```\n",
    "Syntax error in navigation subsystem on line: all of them\n",
    "```\n",
    "**All of them?!** The damage is worse than you thought. You bring up a copy of the navigation subsystem (your puzzle input).\n",
    "\n",
    "The navigation subsystem syntax is made of several lines containing **chunks**. There are one or more chunks on each line, and chunks contain zero or more other chunks. Adjacent chunks are not separated by any delimiter; if one chunk stops, the next chunk (if any) can immediately start. Every chunk must **open** and **close** with one of four legal pairs of matching characters:\n",
    "\n",
    "- If a chunk opens with `(`, it must close with `)`.\n",
    "- If a chunk opens with `[`, it must close with `]`.\n",
    "- If a chunk opens with `{`, it must close with `}`.\n",
    "- If a chunk opens with `<`, it must close with `>`.\n",
    "\n",
    "So, `()` is a legal chunk that contains no other chunks, as is `[]`. More complex but valid chunks include `([])`, `{()()()}`, `<([{}])>`, `[<>({}){}[([])<>]]`, and even `(((((((((())))))))))`.\n",
    "\n",
    "Some lines are **incomplete**, but others are **corrupted**. Find and discard the corrupted lines first.\n",
    "\n",
    "A corrupted line is one where a chunk **closes with the wrong character** - that is, where the characters it opens and closes with do not form one of the four legal pairs listed above.\n",
    "\n",
    "Examples of corrupted chunks include `(]`, `{()()()>`, `(((()))}`, and `<([]){()}[{}])`. Such a chunk can appear anywhere within a line, and its presence causes the whole line to be considered corrupted.\n",
    "\n",
    "For example, consider the following navigation subsystem:\n",
    "```\n",
    "[({(<(())[]>[[{[]{<()<>>\n",
    "[(()[<>])]({[<{<<[]>>(\n",
    "{([(<{}[<>[]}>{[]{[(<()>\n",
    "(((({<>}<{<{<>}{[]{[]{}\n",
    "[[<[([]))<([[{}[[()]]]\n",
    "[{[{({}]{}}([{[{{{}}([]\n",
    "{<[[]]>}<{[{[{[]{()[[[]\n",
    "[<(<(<(<{}))><([]([]()\n",
    "<{([([[(<>()){}]>(<<{{\n",
    "<{([{{}}[<[[[<>{}]]]>[]]\n",
    "```\n",
    "Some of the lines aren't corrupted, just incomplete; you can ignore these lines for now. The remaining five lines are corrupted:\n",
    "\n",
    "- `{([(<{}[<>[]}>{[]{[(<()>` - Expected `]`, but found `}` instead.\n",
    "- `[[<[([]))<([[{}[[()]]]` - Expected `]`, but found `)` instead.\n",
    "- `[{[{({}]{}}([{[{{{}}([]` - Expected `)`, but found `]` instead.\n",
    "- `[<(<(<(<{}))><([]([]()` - Expected `>`, but found `)` instead.\n",
    "- `<{([([[(<>()){}]>(<<{{` - Expected `]`, but found `>` instead.\n",
    "\n",
    "Stop at the first incorrect closing character on each corrupted line.\n",
    "\n",
    "Did you know that syntax checkers actually have contests to see who can get the high score for syntax errors in a file? It's true! To calculate the syntax error score for a line, take the **first illegal character** on the line and look it up in the following table:\n",
    "\n",
    "- `)`: `3` points.\n",
    "- `]`: `57` points.\n",
    "- `}`: `1197` points.\n",
    "- `>`: `25137` points.\n",
    "\n",
    "In the above example, an illegal `)` was found twice (`2*3 = `**`6`** points), an illegal `]` was found once (**`57`** points), an illegal `}` was found once (**`1197`** points), and an illegal `>` was found once (**`25137`** points). So, the total syntax error score for this file is `6+57+1197+25137 = `**`26397`** points!\n",
    "\n",
    "Find the first illegal character in each corrupted line of the navigation subsystem. **What is the total syntax error score for those errors?**"
   ]
  },
  {
   "cell_type": "code",
   "execution_count": 2,
   "metadata": {
    "scrolled": true
   },
   "outputs": [
    {
     "name": "stdout",
     "output_type": "stream",
     "text": [
      "Result =\u001b[1m 436497 \u001b[0m\n"
     ]
    }
   ],
   "source": [
    "open_chunks = {'(', '[', '{', '<'}\n",
    "chunk_dict = {')': '(', ']': '[', '}': '{', '>': '<'}\n",
    "points_dict = {')': 3, ']': 57, '}': 1197, '>': 25137}\n",
    "\n",
    "result = 0\n",
    "with open(\"../data/input_10.txt\", \"r\") as f:\n",
    "    for line in f:\n",
    "        q = queue.LifoQueue()\n",
    "        for x in line.strip():\n",
    "            if x in open_chunks:\n",
    "                q.put(x)\n",
    "            else:\n",
    "                if chunk_dict[x] != q.get():\n",
    "                    result += points_dict[x]\n",
    "                    break\n",
    "\n",
    "print(\"Result =\\033[1m\", result,\"\\033[0m\")"
   ]
  },
  {
   "cell_type": "markdown",
   "metadata": {},
   "source": [
    "### --- Part Two ---\n",
    "\n",
    "Now, discard the corrupted lines. The remaining lines are **incomplete**.\n",
    "\n",
    "Incomplete lines don't have any incorrect characters - instead, they're missing some closing characters at the end of the line. To repair the navigation subsystem, you just need to figure out **the sequence of closing characters** that complete all open chunks in the line.\n",
    "\n",
    "You can only use closing characters (`)`, `]`, `}`, or `>`), and you must add them in the correct order so that only legal pairs are formed and all chunks end up closed.\n",
    "\n",
    "In the example above, there are five incomplete lines:\n",
    "\n",
    "- `[({(<(())[]>[[{[]{<()<>>` - Complete by adding `}}]])})]`.\n",
    "- `[(()[<>])]({[<{<<[]>>(` - Complete by adding `)}>]})`.\n",
    "- `(((({<>}<{<{<>}{[]{[]{}` - Complete by adding `}}>}>))))`.\n",
    "- `{<[[]]>}<{[{[{[]{()[[[]` - Complete by adding `]]}}]}]}>`.\n",
    "- `<{([{{}}[<[[[<>{}]]]>[]]` - Complete by adding `])}>`.\n",
    "\n",
    "Did you know that autocomplete tools **also** have contests? It's true! The score is determined by considering the completion string character-by-character. Start with a total score of `0`. Then, for each character, multiply the total score by 5 and then increase the total score by the point value given for the character in the following table:\n",
    "\n",
    "- `)`: `1` point.\n",
    "- `]`: `2` points.\n",
    "- `}`: `3` points.\n",
    "- `>`: `4` points.\n",
    "\n",
    "So, the last completion string above - `])}>` - would be scored as follows:\n",
    "\n",
    "- Start with a total score of `0`.\n",
    "- Multiply the total score by `5` to get `0`, then add the value of `]` (2) to get a new total score of `2`.\n",
    "- Multiply the total score by `5` to get `10`, then add the value of `)` (1) to get a new total score of `11`.\n",
    "- Multiply the total score by `5` to get `55`, then add the value of `}` (3) to get a new total score of `58`.\n",
    "- Multiply the total score by `5` to get `290`, then add the value of `>` (4) to get a new total score of `294`.\n",
    "\n",
    "The five lines' completion strings have total scores as follows:\n",
    "\n",
    "- `}}]])})]` - `288957` total points.\n",
    "- `)}>]})` - `5566` total points.\n",
    "- `}}>}>))))` - `1480781` total points.\n",
    "- `]]}}]}]}>` - `995444` total points.\n",
    "- `])}>` - `294` total points.\n",
    "\n",
    "Autocomplete tools are an odd bunch: the winner is found by **sorting** all of the scores and then taking the **middle** score. (There will always be an odd number of scores to consider.) In this example, the middle score is **`288957`** because there are the same number of scores smaller and larger than it.\n",
    "\n",
    "Find the completion string for each incomplete line, score the completion strings, and sort the scores. What is the middle score?\n"
   ]
  },
  {
   "cell_type": "code",
   "execution_count": 3,
   "metadata": {},
   "outputs": [
    {
     "name": "stdout",
     "output_type": "stream",
     "text": [
      "Result =\u001b[1m 2377613374 \u001b[0m\n"
     ]
    }
   ],
   "source": [
    "open_chunks = {'(', '[', '{', '<'}\n",
    "chunk_dict = {')': '(', ']': '[', '}': '{', '>': '<'}\n",
    "points_dict = {'(': 1, '[': 2, '{': 3, '<': 4}\n",
    "\n",
    "scores = []\n",
    "with open(\"../data/input_10.txt\", \"r\") as f:\n",
    "    for line in f:\n",
    "        q = queue.LifoQueue()\n",
    "        score = 0\n",
    "        for x in line:\n",
    "            if x == '\\n':\n",
    "                while not q.empty():\n",
    "                    item = q.get()\n",
    "                    score = score * 5 + points_dict[item]\n",
    "                scores.append(score)\n",
    "            else:\n",
    "                if x in open_chunks:\n",
    "                    q.put(x)\n",
    "                else:\n",
    "                    if chunk_dict[x] != q.get():\n",
    "                        break\n",
    "\n",
    "result = int(np.median(np.array(scores)))\n",
    "print(\"Result =\\033[1m\", result,\"\\033[0m\")"
   ]
  },
  {
   "cell_type": "markdown",
   "metadata": {},
   "source": [
    "### Both problems in one run"
   ]
  },
  {
   "cell_type": "code",
   "execution_count": 4,
   "metadata": {},
   "outputs": [
    {
     "name": "stdout",
     "output_type": "stream",
     "text": [
      "Result Part One = =\u001b[1m 436497 \u001b[0m\n",
      "Result Part Two = =\u001b[1m 2377613374 \u001b[0m\n"
     ]
    }
   ],
   "source": [
    "open_chunks = {'(', '[', '{', '<'}\n",
    "chunk_dict = {')': '(', ']': '[', '}': '{', '>': '<'}\n",
    "points_dict_1 = {')': 3, ']': 57, '}': 1197, '>': 25137}\n",
    "points_dict_2 = {'(': 1, '[': 2, '{': 3, '<': 4}\n",
    "\n",
    "result1 = 0\n",
    "scores = []\n",
    "\n",
    "with open(\"../data/input_10.txt\", \"r\") as f:\n",
    "    for line in f:\n",
    "        q = queue.LifoQueue()\n",
    "        score = 0\n",
    "        for x in line:\n",
    "            if x == '\\n':\n",
    "                while not q.empty():\n",
    "                    item = q.get()\n",
    "                    score = score * 5 + points_dict_2[item]\n",
    "                scores.append(score)\n",
    "            else:\n",
    "                if x in open_chunks:\n",
    "                    q.put(x)\n",
    "                else:\n",
    "                    if chunk_dict[x] != q.get():\n",
    "                        result1 += points_dict_1[x]\n",
    "                        break\n",
    "\n",
    "result2 = int(np.median(np.array(scores)))\n",
    "print(\"Result Part One = =\\033[1m\", result1,\"\\033[0m\")\n",
    "print(\"Result Part Two = =\\033[1m\", result2,\"\\033[0m\")"
   ]
  }
 ],
 "metadata": {
  "kernelspec": {
   "display_name": "Python 3",
   "language": "python",
   "name": "python3"
  },
  "language_info": {
   "codemirror_mode": {
    "name": "ipython",
    "version": 3
   },
   "file_extension": ".py",
   "mimetype": "text/x-python",
   "name": "python",
   "nbconvert_exporter": "python",
   "pygments_lexer": "ipython3",
   "version": "3.8.3"
  }
 },
 "nbformat": 4,
 "nbformat_minor": 5
}
